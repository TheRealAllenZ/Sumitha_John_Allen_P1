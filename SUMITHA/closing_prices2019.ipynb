{
 "cells": [
  {
   "cell_type": "code",
   "execution_count": 1,
   "metadata": {},
   "outputs": [],
   "source": [
    "import pandas as pd\n",
    "import os\n",
    "import matplotlib.pyplot as plt\n",
    "import numpy as np\n",
    "%matplotlib inline\n",
    "import json\n",
    "import requests\n",
    "import alpaca_trade_api as tradeapi"
   ]
  },
  {
   "cell_type": "code",
   "execution_count": 2,
   "metadata": {},
   "outputs": [
    {
     "output_type": "execute_result",
     "data": {
      "text/plain": [
       "True"
      ]
     },
     "metadata": {},
     "execution_count": 2
    }
   ],
   "source": [
    "from dotenv import load_dotenv\n",
    "load_dotenv('.env')"
   ]
  },
  {
   "cell_type": "code",
   "execution_count": 3,
   "metadata": {},
   "outputs": [],
   "source": [
    "alpaca_api_key=os.getenv('ALPACA_API_KEY')\n",
    "alpaca_secret_key=os.getenv('ALPACA_SECRET_KEY')"
   ]
  },
  {
   "cell_type": "code",
   "execution_count": 4,
   "metadata": {},
   "outputs": [],
   "source": [
    "alpaca=tradeapi.REST(\n",
    "    alpaca_api_key,\n",
    "    alpaca_secret_key,\n",
    "    api_version='v2'\n",
    ")"
   ]
  },
  {
   "cell_type": "code",
   "execution_count": 5,
   "metadata": {},
   "outputs": [],
   "source": [
    "t1=['HMC','BBY','BLNK','ANTM','KO','CTVA','CVS','LEVI','SAM','EPC','ETSY','EXC','F','FOSL','FMS']\n",
    "t2=['GME','CL','HP','SJM','EPC','VFC','SIG','LULU','MSFT','TAP','OC','PEP','PFE','RL','RDFN']\n",
    "t3= ['SAP','BNS','SIX','SBUX','TGT','TD','CLX','CZR','HSY','VFC','UL','UPWK','VZ','VRTX','FB','WBA','WSFS']\n",
    "t4='SPY' # have not run this don't know the ticker. I think we may need this to see how the broadr mkt moved during that period"
   ]
  },
  {
   "cell_type": "code",
   "execution_count": 6,
   "metadata": {},
   "outputs": [],
   "source": [
    "\n",
    "timeframe='1D'\n",
    "start_date=pd.Timestamp(\"2019-06-01\",tz='America/New_York').isoformat()\n",
    "end_date=pd.Timestamp(\"2019-12-31\",tz='America/New_York').isoformat()\n",
    "\n",
    "ticker_data1=alpaca.get_barset(\n",
    "    t1,\n",
    "    timeframe,\n",
    "    start=start_date,\n",
    "    end=end_date,\n",
    "    limit=1000,\n",
    "\n",
    ").df"
   ]
  },
  {
   "cell_type": "code",
   "execution_count": 7,
   "metadata": {},
   "outputs": [],
   "source": [
    "timeframe='1D'\n",
    "start_date=pd.Timestamp(\"2019-06-01\",tz='America/New_York').isoformat()\n",
    "end_date=pd.Timestamp(\"2019-12-31\",tz='America/New_York').isoformat()\n",
    "\n",
    "ticker_data2=alpaca.get_barset(\n",
    "    t2,\n",
    "    timeframe,\n",
    "    start=start_date,\n",
    "    end=end_date,\n",
    "    limit=1000,\n",
    "\n",
    ").df"
   ]
  },
  {
   "cell_type": "code",
   "execution_count": 8,
   "metadata": {},
   "outputs": [],
   "source": [
    "timeframe='1D'\n",
    "start_date=pd.Timestamp(\"2019-06-01\",tz='America/New_York').isoformat()\n",
    "end_date=pd.Timestamp(\"2019-12-31\",tz='America/New_York').isoformat()\n",
    "\n",
    "ticker_data3=alpaca.get_barset(\n",
    "    t3,\n",
    "    timeframe,\n",
    "    start=start_date,\n",
    "    end=end_date,\n",
    "    limit=1000,\n",
    "\n",
    ").df"
   ]
  },
  {
   "cell_type": "code",
   "execution_count": 9,
   "metadata": {},
   "outputs": [],
   "source": [
    "timeframe='1D'\n",
    "start_date=pd.Timestamp(\"2019-06-01\",tz='America/New_York').isoformat()\n",
    "end_date=pd.Timestamp(\"2019-12-31\",tz='America/New_York').isoformat()\n",
    "\n",
    "ticker_data4=alpaca.get_barset(\n",
    "    t4,\n",
    "    timeframe,\n",
    "    start=start_date,\n",
    "    end=end_date,\n",
    "    limit=1000,\n",
    "\n",
    ").df"
   ]
  },
  {
   "cell_type": "code",
   "execution_count": 10,
   "metadata": {},
   "outputs": [
    {
     "output_type": "execute_result",
     "data": {
      "text/plain": [
       "                SAP    BNS    SIX   SBUX    TGT      TD     CLX   CZR     HSY  \\\n",
       "2019-06-03  122.855    NaN    NaN  76.21  82.96     NaN     NaN  8.61  132.30   \n",
       "2019-06-04  125.830  52.28  51.18  78.52  85.88  55.790  152.78  9.00  133.13   \n",
       "2019-06-05  126.260  52.10  51.25  79.96  85.46  56.050  155.40  9.02  136.06   \n",
       "2019-06-06  126.490  52.37  51.68  81.41  85.73  56.395  158.96  9.13  137.24   \n",
       "2019-06-07  129.610  52.98  51.84  82.47  86.85  56.700  156.61  9.45  138.01   \n",
       "\n",
       "              VFC     UL   UPWK      VZ    VRTX      FB  \n",
       "2019-06-03    NaN  61.52    NaN  56.360     NaN  164.01  \n",
       "2019-06-04  85.11  61.38  14.41  56.220  171.27  167.52  \n",
       "2019-06-05  85.77  61.69  14.16  57.040  173.26  168.15  \n",
       "2019-06-06  84.45  62.08  14.34  57.545  167.82  168.32  \n",
       "2019-06-07  84.70  62.53  14.38  57.210  173.51  173.34  "
      ],
      "text/html": "<div>\n<style scoped>\n    .dataframe tbody tr th:only-of-type {\n        vertical-align: middle;\n    }\n\n    .dataframe tbody tr th {\n        vertical-align: top;\n    }\n\n    .dataframe thead th {\n        text-align: right;\n    }\n</style>\n<table border=\"1\" class=\"dataframe\">\n  <thead>\n    <tr style=\"text-align: right;\">\n      <th></th>\n      <th>SAP</th>\n      <th>BNS</th>\n      <th>SIX</th>\n      <th>SBUX</th>\n      <th>TGT</th>\n      <th>TD</th>\n      <th>CLX</th>\n      <th>CZR</th>\n      <th>HSY</th>\n      <th>VFC</th>\n      <th>UL</th>\n      <th>UPWK</th>\n      <th>VZ</th>\n      <th>VRTX</th>\n      <th>FB</th>\n    </tr>\n  </thead>\n  <tbody>\n    <tr>\n      <th>2019-06-03</th>\n      <td>122.855</td>\n      <td>NaN</td>\n      <td>NaN</td>\n      <td>76.21</td>\n      <td>82.96</td>\n      <td>NaN</td>\n      <td>NaN</td>\n      <td>8.61</td>\n      <td>132.30</td>\n      <td>NaN</td>\n      <td>61.52</td>\n      <td>NaN</td>\n      <td>56.360</td>\n      <td>NaN</td>\n      <td>164.01</td>\n    </tr>\n    <tr>\n      <th>2019-06-04</th>\n      <td>125.830</td>\n      <td>52.28</td>\n      <td>51.18</td>\n      <td>78.52</td>\n      <td>85.88</td>\n      <td>55.790</td>\n      <td>152.78</td>\n      <td>9.00</td>\n      <td>133.13</td>\n      <td>85.11</td>\n      <td>61.38</td>\n      <td>14.41</td>\n      <td>56.220</td>\n      <td>171.27</td>\n      <td>167.52</td>\n    </tr>\n    <tr>\n      <th>2019-06-05</th>\n      <td>126.260</td>\n      <td>52.10</td>\n      <td>51.25</td>\n      <td>79.96</td>\n      <td>85.46</td>\n      <td>56.050</td>\n      <td>155.40</td>\n      <td>9.02</td>\n      <td>136.06</td>\n      <td>85.77</td>\n      <td>61.69</td>\n      <td>14.16</td>\n      <td>57.040</td>\n      <td>173.26</td>\n      <td>168.15</td>\n    </tr>\n    <tr>\n      <th>2019-06-06</th>\n      <td>126.490</td>\n      <td>52.37</td>\n      <td>51.68</td>\n      <td>81.41</td>\n      <td>85.73</td>\n      <td>56.395</td>\n      <td>158.96</td>\n      <td>9.13</td>\n      <td>137.24</td>\n      <td>84.45</td>\n      <td>62.08</td>\n      <td>14.34</td>\n      <td>57.545</td>\n      <td>167.82</td>\n      <td>168.32</td>\n    </tr>\n    <tr>\n      <th>2019-06-07</th>\n      <td>129.610</td>\n      <td>52.98</td>\n      <td>51.84</td>\n      <td>82.47</td>\n      <td>86.85</td>\n      <td>56.700</td>\n      <td>156.61</td>\n      <td>9.45</td>\n      <td>138.01</td>\n      <td>84.70</td>\n      <td>62.53</td>\n      <td>14.38</td>\n      <td>57.210</td>\n      <td>173.51</td>\n      <td>173.34</td>\n    </tr>\n  </tbody>\n</table>\n</div>"
     },
     "metadata": {},
     "execution_count": 10
    }
   ],
   "source": [
    "# Create and empty DataFrame for closing prices\n",
    "df_closing_prices3 = pd.DataFrame()\n",
    "\n",
    "# Fetch the closing prices for all the tickers\n",
    "for ticker in t3:\n",
    "    df_closing_prices3[ticker] = ticker_data3[ticker][\"close\"]\n",
    "\n",
    "# Drop the time component of the date\n",
    "df_closing_prices3.index = df_closing_prices3.index.date\n",
    "\n",
    "# Display sample data\n",
    "df_closing_prices3.head()"
   ]
  },
  {
   "cell_type": "code",
   "execution_count": 11,
   "metadata": {},
   "outputs": [
    {
     "output_type": "execute_result",
     "data": {
      "text/plain": [
       "               GME     CL     HP     SJM    EPC    VFC    SIG     LULU  \\\n",
       "2019-06-03  7.4600  70.66    NaN  124.30    NaN    NaN  19.09  163.980   \n",
       "2019-06-04  7.8265  70.84  50.33  124.60  29.90  85.11  20.55  168.900   \n",
       "2019-06-05  5.0601  71.91  50.99  125.25  29.54  85.77  19.44  173.570   \n",
       "2019-06-06  5.1100  73.11  51.20  122.43  30.16  84.45  19.16  170.440   \n",
       "2019-06-07  5.0100  73.99  51.87  124.51  30.73  84.70  19.72  172.421   \n",
       "\n",
       "              MSFT    TAP     OC     PEP    PFE      RL   RDFN  \n",
       "2019-06-03  119.88  55.90  48.80  128.94  41.93  107.16  15.51  \n",
       "2019-06-04  123.20  58.00  51.10  129.06  42.23  111.81  16.28  \n",
       "2019-06-05  125.83  57.43  51.81  131.40  42.51  111.01  16.00  \n",
       "2019-06-06  127.90  57.72  53.06  132.00  42.76  109.47  16.08  \n",
       "2019-06-07  131.40  56.98  52.60  133.45  42.92  110.89  16.86  "
      ],
      "text/html": "<div>\n<style scoped>\n    .dataframe tbody tr th:only-of-type {\n        vertical-align: middle;\n    }\n\n    .dataframe tbody tr th {\n        vertical-align: top;\n    }\n\n    .dataframe thead th {\n        text-align: right;\n    }\n</style>\n<table border=\"1\" class=\"dataframe\">\n  <thead>\n    <tr style=\"text-align: right;\">\n      <th></th>\n      <th>GME</th>\n      <th>CL</th>\n      <th>HP</th>\n      <th>SJM</th>\n      <th>EPC</th>\n      <th>VFC</th>\n      <th>SIG</th>\n      <th>LULU</th>\n      <th>MSFT</th>\n      <th>TAP</th>\n      <th>OC</th>\n      <th>PEP</th>\n      <th>PFE</th>\n      <th>RL</th>\n      <th>RDFN</th>\n    </tr>\n  </thead>\n  <tbody>\n    <tr>\n      <th>2019-06-03</th>\n      <td>7.4600</td>\n      <td>70.66</td>\n      <td>NaN</td>\n      <td>124.30</td>\n      <td>NaN</td>\n      <td>NaN</td>\n      <td>19.09</td>\n      <td>163.980</td>\n      <td>119.88</td>\n      <td>55.90</td>\n      <td>48.80</td>\n      <td>128.94</td>\n      <td>41.93</td>\n      <td>107.16</td>\n      <td>15.51</td>\n    </tr>\n    <tr>\n      <th>2019-06-04</th>\n      <td>7.8265</td>\n      <td>70.84</td>\n      <td>50.33</td>\n      <td>124.60</td>\n      <td>29.90</td>\n      <td>85.11</td>\n      <td>20.55</td>\n      <td>168.900</td>\n      <td>123.20</td>\n      <td>58.00</td>\n      <td>51.10</td>\n      <td>129.06</td>\n      <td>42.23</td>\n      <td>111.81</td>\n      <td>16.28</td>\n    </tr>\n    <tr>\n      <th>2019-06-05</th>\n      <td>5.0601</td>\n      <td>71.91</td>\n      <td>50.99</td>\n      <td>125.25</td>\n      <td>29.54</td>\n      <td>85.77</td>\n      <td>19.44</td>\n      <td>173.570</td>\n      <td>125.83</td>\n      <td>57.43</td>\n      <td>51.81</td>\n      <td>131.40</td>\n      <td>42.51</td>\n      <td>111.01</td>\n      <td>16.00</td>\n    </tr>\n    <tr>\n      <th>2019-06-06</th>\n      <td>5.1100</td>\n      <td>73.11</td>\n      <td>51.20</td>\n      <td>122.43</td>\n      <td>30.16</td>\n      <td>84.45</td>\n      <td>19.16</td>\n      <td>170.440</td>\n      <td>127.90</td>\n      <td>57.72</td>\n      <td>53.06</td>\n      <td>132.00</td>\n      <td>42.76</td>\n      <td>109.47</td>\n      <td>16.08</td>\n    </tr>\n    <tr>\n      <th>2019-06-07</th>\n      <td>5.0100</td>\n      <td>73.99</td>\n      <td>51.87</td>\n      <td>124.51</td>\n      <td>30.73</td>\n      <td>84.70</td>\n      <td>19.72</td>\n      <td>172.421</td>\n      <td>131.40</td>\n      <td>56.98</td>\n      <td>52.60</td>\n      <td>133.45</td>\n      <td>42.92</td>\n      <td>110.89</td>\n      <td>16.86</td>\n    </tr>\n  </tbody>\n</table>\n</div>"
     },
     "metadata": {},
     "execution_count": 11
    }
   ],
   "source": [
    "# Create and empty DataFrame for closing prices\n",
    "df_closing_prices2 = pd.DataFrame()\n",
    "\n",
    "# Fetch the closing prices for all the tickers\n",
    "for ticker in t2:\n",
    "    df_closing_prices2[ticker] = ticker_data2[ticker][\"close\"]\n",
    "\n",
    "# Drop the time component of the date\n",
    "df_closing_prices2.index = df_closing_prices2.index.date\n",
    "\n",
    "# Display sample data\n",
    "df_closing_prices2.head()"
   ]
  },
  {
   "cell_type": "code",
   "execution_count": 12,
   "metadata": {},
   "outputs": [
    {
     "output_type": "execute_result",
     "data": {
      "text/plain": [
       "              HMC    BBY  BLNK    ANTM       KO   CTVA    CVS    LEVI     SAM  \\\n",
       "2019-06-03    NaN  63.21  2.07     NaN  49.9500    NaN  53.39  20.635  315.62   \n",
       "2019-06-04  25.48  63.94  2.32  279.81  50.0000  27.48  54.63  21.480  305.77   \n",
       "2019-06-05  25.63  63.24  2.29  276.96  50.8000  27.97  53.18  21.350  309.90   \n",
       "2019-06-06  25.45  62.31  2.32  277.50  51.4100  26.89  54.14  20.820  319.97   \n",
       "2019-06-07  25.58  63.72  2.37  278.12  51.4753  26.31  53.92  20.975  320.36   \n",
       "\n",
       "              EPC   ETSY    EXC      F   FOSL    FMS  \n",
       "2019-06-03    NaN  61.07  48.52  9.610  10.25  36.84  \n",
       "2019-06-04  29.90  61.20  48.71  9.920  11.51  37.69  \n",
       "2019-06-05  29.54  61.49  49.72  9.770  11.18  37.45  \n",
       "2019-06-06  30.16  61.97  50.24  9.750  10.70  37.51  \n",
       "2019-06-07  30.73  63.89  49.96  9.755  11.10  37.61  "
      ],
      "text/html": "<div>\n<style scoped>\n    .dataframe tbody tr th:only-of-type {\n        vertical-align: middle;\n    }\n\n    .dataframe tbody tr th {\n        vertical-align: top;\n    }\n\n    .dataframe thead th {\n        text-align: right;\n    }\n</style>\n<table border=\"1\" class=\"dataframe\">\n  <thead>\n    <tr style=\"text-align: right;\">\n      <th></th>\n      <th>HMC</th>\n      <th>BBY</th>\n      <th>BLNK</th>\n      <th>ANTM</th>\n      <th>KO</th>\n      <th>CTVA</th>\n      <th>CVS</th>\n      <th>LEVI</th>\n      <th>SAM</th>\n      <th>EPC</th>\n      <th>ETSY</th>\n      <th>EXC</th>\n      <th>F</th>\n      <th>FOSL</th>\n      <th>FMS</th>\n    </tr>\n  </thead>\n  <tbody>\n    <tr>\n      <th>2019-06-03</th>\n      <td>NaN</td>\n      <td>63.21</td>\n      <td>2.07</td>\n      <td>NaN</td>\n      <td>49.9500</td>\n      <td>NaN</td>\n      <td>53.39</td>\n      <td>20.635</td>\n      <td>315.62</td>\n      <td>NaN</td>\n      <td>61.07</td>\n      <td>48.52</td>\n      <td>9.610</td>\n      <td>10.25</td>\n      <td>36.84</td>\n    </tr>\n    <tr>\n      <th>2019-06-04</th>\n      <td>25.48</td>\n      <td>63.94</td>\n      <td>2.32</td>\n      <td>279.81</td>\n      <td>50.0000</td>\n      <td>27.48</td>\n      <td>54.63</td>\n      <td>21.480</td>\n      <td>305.77</td>\n      <td>29.90</td>\n      <td>61.20</td>\n      <td>48.71</td>\n      <td>9.920</td>\n      <td>11.51</td>\n      <td>37.69</td>\n    </tr>\n    <tr>\n      <th>2019-06-05</th>\n      <td>25.63</td>\n      <td>63.24</td>\n      <td>2.29</td>\n      <td>276.96</td>\n      <td>50.8000</td>\n      <td>27.97</td>\n      <td>53.18</td>\n      <td>21.350</td>\n      <td>309.90</td>\n      <td>29.54</td>\n      <td>61.49</td>\n      <td>49.72</td>\n      <td>9.770</td>\n      <td>11.18</td>\n      <td>37.45</td>\n    </tr>\n    <tr>\n      <th>2019-06-06</th>\n      <td>25.45</td>\n      <td>62.31</td>\n      <td>2.32</td>\n      <td>277.50</td>\n      <td>51.4100</td>\n      <td>26.89</td>\n      <td>54.14</td>\n      <td>20.820</td>\n      <td>319.97</td>\n      <td>30.16</td>\n      <td>61.97</td>\n      <td>50.24</td>\n      <td>9.750</td>\n      <td>10.70</td>\n      <td>37.51</td>\n    </tr>\n    <tr>\n      <th>2019-06-07</th>\n      <td>25.58</td>\n      <td>63.72</td>\n      <td>2.37</td>\n      <td>278.12</td>\n      <td>51.4753</td>\n      <td>26.31</td>\n      <td>53.92</td>\n      <td>20.975</td>\n      <td>320.36</td>\n      <td>30.73</td>\n      <td>63.89</td>\n      <td>49.96</td>\n      <td>9.755</td>\n      <td>11.10</td>\n      <td>37.61</td>\n    </tr>\n  </tbody>\n</table>\n</div>"
     },
     "metadata": {},
     "execution_count": 12
    }
   ],
   "source": [
    "df_closing_prices1 = pd.DataFrame()\n",
    "\n",
    "# Fetch the closing prices for all the tickers\n",
    "for ticker in t1:\n",
    "    df_closing_prices1[ticker] = ticker_data1[ticker][\"close\"]\n",
    "\n",
    "# Drop the time component of the date\n",
    "df_closing_prices1.index = df_closing_prices1.index.date\n",
    "\n",
    "# Display sample data\n",
    "df_closing_prices1.head()"
   ]
  },
  {
   "cell_type": "code",
   "execution_count": 13,
   "metadata": {},
   "outputs": [
    {
     "output_type": "execute_result",
     "data": {
      "text/plain": [
       "               SPY\n",
       "2019-06-03  274.54\n",
       "2019-06-04  280.52\n",
       "2019-06-05  282.90\n",
       "2019-06-06  284.74\n",
       "2019-06-07  287.63"
      ],
      "text/html": "<div>\n<style scoped>\n    .dataframe tbody tr th:only-of-type {\n        vertical-align: middle;\n    }\n\n    .dataframe tbody tr th {\n        vertical-align: top;\n    }\n\n    .dataframe thead th {\n        text-align: right;\n    }\n</style>\n<table border=\"1\" class=\"dataframe\">\n  <thead>\n    <tr style=\"text-align: right;\">\n      <th></th>\n      <th>SPY</th>\n    </tr>\n  </thead>\n  <tbody>\n    <tr>\n      <th>2019-06-03</th>\n      <td>274.54</td>\n    </tr>\n    <tr>\n      <th>2019-06-04</th>\n      <td>280.52</td>\n    </tr>\n    <tr>\n      <th>2019-06-05</th>\n      <td>282.90</td>\n    </tr>\n    <tr>\n      <th>2019-06-06</th>\n      <td>284.74</td>\n    </tr>\n    <tr>\n      <th>2019-06-07</th>\n      <td>287.63</td>\n    </tr>\n  </tbody>\n</table>\n</div>"
     },
     "metadata": {},
     "execution_count": 13
    }
   ],
   "source": [
    "df_closing_prices4 = pd.DataFrame()\n",
    "df_closing_prices4['SPY'] = ticker_data4['SPY'][\"close\"]\n",
    "\n",
    "df_closing_prices4.index = df_closing_prices4.index.date\n",
    "\n",
    "# Display sample data\n",
    "df_closing_prices4.head()"
   ]
  },
  {
   "cell_type": "code",
   "execution_count": null,
   "metadata": {},
   "outputs": [],
   "source": []
  },
  {
   "cell_type": "code",
   "execution_count": 14,
   "metadata": {},
   "outputs": [],
   "source": [
    "combined_ticker_clsprices=pd.concat([df_closing_prices1,df_closing_prices2,df_closing_prices3,df_closing_prices4],axis='columns',join='inner')"
   ]
  },
  {
   "cell_type": "code",
   "execution_count": 15,
   "metadata": {},
   "outputs": [
    {
     "output_type": "execute_result",
     "data": {
      "text/plain": [
       "              HMC    BBY   BLNK    ANTM       KO     CTVA    CVS    LEVI  \\\n",
       "2019-06-03    NaN  63.21  2.070     NaN  49.9500      NaN  53.39  20.635   \n",
       "2019-06-04  25.48  63.94  2.320  279.81  50.0000  27.4800  54.63  21.480   \n",
       "2019-06-05  25.63  63.24  2.290  276.96  50.8000  27.9700  53.18  21.350   \n",
       "2019-06-06  25.45  62.31  2.320  277.50  51.4100  26.8900  54.14  20.820   \n",
       "2019-06-07  25.58  63.72  2.370  278.12  51.4753  26.3100  53.92  20.975   \n",
       "...           ...    ...    ...     ...      ...      ...    ...     ...   \n",
       "2019-12-24  28.67  87.95  2.020  304.50  54.7100  28.8211  74.54  19.630   \n",
       "2019-12-26  28.78  87.87  2.000  304.76  55.0100  29.1900  74.50  19.630   \n",
       "2019-12-27  28.58  87.01  1.940  306.47  55.3500  29.1200  74.37  19.240   \n",
       "2019-12-30  28.26  87.58  1.935  305.38  55.2800  28.8728  73.71  19.010   \n",
       "2019-12-31  28.31  87.80  1.850  301.82  55.3300  29.5600  74.26  19.310   \n",
       "\n",
       "               SAM    EPC  ...     CLX    CZR     HSY    VFC     UL   UPWK  \\\n",
       "2019-06-03  315.62    NaN  ...     NaN   8.61  132.30    NaN  61.52    NaN   \n",
       "2019-06-04  305.77  29.90  ...  152.78   9.00  133.13  85.11  61.38  14.41   \n",
       "2019-06-05  309.90  29.54  ...  155.40   9.02  136.06  85.77  61.69  14.16   \n",
       "2019-06-06  319.97  30.16  ...  158.96   9.13  137.24  84.45  62.08  14.34   \n",
       "2019-06-07  320.36  30.73  ...  156.61   9.45  138.01  84.70  62.53  14.38   \n",
       "...            ...    ...  ...     ...    ...     ...    ...    ...    ...   \n",
       "2019-12-24  378.40  31.01  ...  152.46  13.59  146.09  98.85  56.71  10.56   \n",
       "2019-12-26  384.42  31.03  ...  152.93  13.61  146.34  99.39  56.80  10.42   \n",
       "2019-12-27  379.10  30.86  ...  153.53  13.62  147.62  99.96  57.70  10.42   \n",
       "2019-12-30  379.72  30.61  ...  152.88  13.55  146.80  99.56  57.30  10.30   \n",
       "2019-12-31  378.36  30.95  ...  153.49  13.61  146.95  99.68  57.18  10.66   \n",
       "\n",
       "                VZ    VRTX      FB     SPY  \n",
       "2019-06-03  56.360     NaN  164.01  274.54  \n",
       "2019-06-04  56.220  171.27  167.52  280.52  \n",
       "2019-06-05  57.040  173.26  168.15  282.90  \n",
       "2019-06-06  57.545  167.82  168.32  284.74  \n",
       "2019-06-07  57.210  173.51  173.34  287.63  \n",
       "...            ...     ...     ...     ...  \n",
       "2019-12-24  61.250  220.52  205.15  321.26  \n",
       "2019-12-26  61.300  220.27  207.79  322.91  \n",
       "2019-12-27  61.530  221.08  208.10  322.86  \n",
       "2019-12-30  61.210  219.09  204.41  321.10  \n",
       "2019-12-31  61.370  218.95  205.09  321.92  \n",
       "\n",
       "[148 rows x 46 columns]"
      ],
      "text/html": "<div>\n<style scoped>\n    .dataframe tbody tr th:only-of-type {\n        vertical-align: middle;\n    }\n\n    .dataframe tbody tr th {\n        vertical-align: top;\n    }\n\n    .dataframe thead th {\n        text-align: right;\n    }\n</style>\n<table border=\"1\" class=\"dataframe\">\n  <thead>\n    <tr style=\"text-align: right;\">\n      <th></th>\n      <th>HMC</th>\n      <th>BBY</th>\n      <th>BLNK</th>\n      <th>ANTM</th>\n      <th>KO</th>\n      <th>CTVA</th>\n      <th>CVS</th>\n      <th>LEVI</th>\n      <th>SAM</th>\n      <th>EPC</th>\n      <th>...</th>\n      <th>CLX</th>\n      <th>CZR</th>\n      <th>HSY</th>\n      <th>VFC</th>\n      <th>UL</th>\n      <th>UPWK</th>\n      <th>VZ</th>\n      <th>VRTX</th>\n      <th>FB</th>\n      <th>SPY</th>\n    </tr>\n  </thead>\n  <tbody>\n    <tr>\n      <th>2019-06-03</th>\n      <td>NaN</td>\n      <td>63.21</td>\n      <td>2.070</td>\n      <td>NaN</td>\n      <td>49.9500</td>\n      <td>NaN</td>\n      <td>53.39</td>\n      <td>20.635</td>\n      <td>315.62</td>\n      <td>NaN</td>\n      <td>...</td>\n      <td>NaN</td>\n      <td>8.61</td>\n      <td>132.30</td>\n      <td>NaN</td>\n      <td>61.52</td>\n      <td>NaN</td>\n      <td>56.360</td>\n      <td>NaN</td>\n      <td>164.01</td>\n      <td>274.54</td>\n    </tr>\n    <tr>\n      <th>2019-06-04</th>\n      <td>25.48</td>\n      <td>63.94</td>\n      <td>2.320</td>\n      <td>279.81</td>\n      <td>50.0000</td>\n      <td>27.4800</td>\n      <td>54.63</td>\n      <td>21.480</td>\n      <td>305.77</td>\n      <td>29.90</td>\n      <td>...</td>\n      <td>152.78</td>\n      <td>9.00</td>\n      <td>133.13</td>\n      <td>85.11</td>\n      <td>61.38</td>\n      <td>14.41</td>\n      <td>56.220</td>\n      <td>171.27</td>\n      <td>167.52</td>\n      <td>280.52</td>\n    </tr>\n    <tr>\n      <th>2019-06-05</th>\n      <td>25.63</td>\n      <td>63.24</td>\n      <td>2.290</td>\n      <td>276.96</td>\n      <td>50.8000</td>\n      <td>27.9700</td>\n      <td>53.18</td>\n      <td>21.350</td>\n      <td>309.90</td>\n      <td>29.54</td>\n      <td>...</td>\n      <td>155.40</td>\n      <td>9.02</td>\n      <td>136.06</td>\n      <td>85.77</td>\n      <td>61.69</td>\n      <td>14.16</td>\n      <td>57.040</td>\n      <td>173.26</td>\n      <td>168.15</td>\n      <td>282.90</td>\n    </tr>\n    <tr>\n      <th>2019-06-06</th>\n      <td>25.45</td>\n      <td>62.31</td>\n      <td>2.320</td>\n      <td>277.50</td>\n      <td>51.4100</td>\n      <td>26.8900</td>\n      <td>54.14</td>\n      <td>20.820</td>\n      <td>319.97</td>\n      <td>30.16</td>\n      <td>...</td>\n      <td>158.96</td>\n      <td>9.13</td>\n      <td>137.24</td>\n      <td>84.45</td>\n      <td>62.08</td>\n      <td>14.34</td>\n      <td>57.545</td>\n      <td>167.82</td>\n      <td>168.32</td>\n      <td>284.74</td>\n    </tr>\n    <tr>\n      <th>2019-06-07</th>\n      <td>25.58</td>\n      <td>63.72</td>\n      <td>2.370</td>\n      <td>278.12</td>\n      <td>51.4753</td>\n      <td>26.3100</td>\n      <td>53.92</td>\n      <td>20.975</td>\n      <td>320.36</td>\n      <td>30.73</td>\n      <td>...</td>\n      <td>156.61</td>\n      <td>9.45</td>\n      <td>138.01</td>\n      <td>84.70</td>\n      <td>62.53</td>\n      <td>14.38</td>\n      <td>57.210</td>\n      <td>173.51</td>\n      <td>173.34</td>\n      <td>287.63</td>\n    </tr>\n    <tr>\n      <th>...</th>\n      <td>...</td>\n      <td>...</td>\n      <td>...</td>\n      <td>...</td>\n      <td>...</td>\n      <td>...</td>\n      <td>...</td>\n      <td>...</td>\n      <td>...</td>\n      <td>...</td>\n      <td>...</td>\n      <td>...</td>\n      <td>...</td>\n      <td>...</td>\n      <td>...</td>\n      <td>...</td>\n      <td>...</td>\n      <td>...</td>\n      <td>...</td>\n      <td>...</td>\n      <td>...</td>\n    </tr>\n    <tr>\n      <th>2019-12-24</th>\n      <td>28.67</td>\n      <td>87.95</td>\n      <td>2.020</td>\n      <td>304.50</td>\n      <td>54.7100</td>\n      <td>28.8211</td>\n      <td>74.54</td>\n      <td>19.630</td>\n      <td>378.40</td>\n      <td>31.01</td>\n      <td>...</td>\n      <td>152.46</td>\n      <td>13.59</td>\n      <td>146.09</td>\n      <td>98.85</td>\n      <td>56.71</td>\n      <td>10.56</td>\n      <td>61.250</td>\n      <td>220.52</td>\n      <td>205.15</td>\n      <td>321.26</td>\n    </tr>\n    <tr>\n      <th>2019-12-26</th>\n      <td>28.78</td>\n      <td>87.87</td>\n      <td>2.000</td>\n      <td>304.76</td>\n      <td>55.0100</td>\n      <td>29.1900</td>\n      <td>74.50</td>\n      <td>19.630</td>\n      <td>384.42</td>\n      <td>31.03</td>\n      <td>...</td>\n      <td>152.93</td>\n      <td>13.61</td>\n      <td>146.34</td>\n      <td>99.39</td>\n      <td>56.80</td>\n      <td>10.42</td>\n      <td>61.300</td>\n      <td>220.27</td>\n      <td>207.79</td>\n      <td>322.91</td>\n    </tr>\n    <tr>\n      <th>2019-12-27</th>\n      <td>28.58</td>\n      <td>87.01</td>\n      <td>1.940</td>\n      <td>306.47</td>\n      <td>55.3500</td>\n      <td>29.1200</td>\n      <td>74.37</td>\n      <td>19.240</td>\n      <td>379.10</td>\n      <td>30.86</td>\n      <td>...</td>\n      <td>153.53</td>\n      <td>13.62</td>\n      <td>147.62</td>\n      <td>99.96</td>\n      <td>57.70</td>\n      <td>10.42</td>\n      <td>61.530</td>\n      <td>221.08</td>\n      <td>208.10</td>\n      <td>322.86</td>\n    </tr>\n    <tr>\n      <th>2019-12-30</th>\n      <td>28.26</td>\n      <td>87.58</td>\n      <td>1.935</td>\n      <td>305.38</td>\n      <td>55.2800</td>\n      <td>28.8728</td>\n      <td>73.71</td>\n      <td>19.010</td>\n      <td>379.72</td>\n      <td>30.61</td>\n      <td>...</td>\n      <td>152.88</td>\n      <td>13.55</td>\n      <td>146.80</td>\n      <td>99.56</td>\n      <td>57.30</td>\n      <td>10.30</td>\n      <td>61.210</td>\n      <td>219.09</td>\n      <td>204.41</td>\n      <td>321.10</td>\n    </tr>\n    <tr>\n      <th>2019-12-31</th>\n      <td>28.31</td>\n      <td>87.80</td>\n      <td>1.850</td>\n      <td>301.82</td>\n      <td>55.3300</td>\n      <td>29.5600</td>\n      <td>74.26</td>\n      <td>19.310</td>\n      <td>378.36</td>\n      <td>30.95</td>\n      <td>...</td>\n      <td>153.49</td>\n      <td>13.61</td>\n      <td>146.95</td>\n      <td>99.68</td>\n      <td>57.18</td>\n      <td>10.66</td>\n      <td>61.370</td>\n      <td>218.95</td>\n      <td>205.09</td>\n      <td>321.92</td>\n    </tr>\n  </tbody>\n</table>\n<p>148 rows × 46 columns</p>\n</div>"
     },
     "metadata": {},
     "execution_count": 15
    }
   ],
   "source": [
    "combined_ticker_clsprices"
   ]
  },
  {
   "cell_type": "code",
   "execution_count": 16,
   "metadata": {},
   "outputs": [],
   "source": [
    "# Combined dataframe of all tickers.\n",
    "# combined_ticker=pd.concat([df_closing_prices1,df_closing_prices2,df_closing_prices3],axis=1,join='inner')"
   ]
  },
  {
   "cell_type": "code",
   "execution_count": 17,
   "metadata": {},
   "outputs": [],
   "source": [
    "# combined_ticker.head()"
   ]
  },
  {
   "cell_type": "code",
   "execution_count": 18,
   "metadata": {},
   "outputs": [],
   "source": [
    "combined_ticker_clsprices.to_csv('closingprice2019withSP.csv')"
   ]
  },
  {
   "cell_type": "code",
   "execution_count": 21,
   "metadata": {},
   "outputs": [],
   "source": [
    "change_prices=combined_ticker_clsprices.pct_change().dropna()\n",
    "change_prices.head()\n",
    "change_prices.to_csv('change_prices_2019.csv')"
   ]
  },
  {
   "cell_type": "code",
   "execution_count": 20,
   "metadata": {},
   "outputs": [
    {
     "output_type": "execute_result",
     "data": {
      "text/plain": [
       "HMC     0\n",
       "BBY     0\n",
       "BLNK    0\n",
       "ANTM    0\n",
       "KO      0\n",
       "CTVA    0\n",
       "CVS     0\n",
       "LEVI    0\n",
       "SAM     0\n",
       "EPC     0\n",
       "ETSY    0\n",
       "EXC     0\n",
       "F       0\n",
       "FOSL    0\n",
       "FMS     0\n",
       "GME     0\n",
       "CL      0\n",
       "HP      0\n",
       "SJM     0\n",
       "EPC     0\n",
       "VFC     0\n",
       "SIG     0\n",
       "LULU    0\n",
       "MSFT    0\n",
       "TAP     0\n",
       "OC      0\n",
       "PEP     0\n",
       "PFE     0\n",
       "RL      0\n",
       "RDFN    0\n",
       "SAP     0\n",
       "BNS     0\n",
       "SIX     0\n",
       "SBUX    0\n",
       "TGT     0\n",
       "TD      0\n",
       "CLX     0\n",
       "CZR     0\n",
       "HSY     0\n",
       "VFC     0\n",
       "UL      0\n",
       "UPWK    0\n",
       "VZ      0\n",
       "VRTX    0\n",
       "FB      0\n",
       "SPY     0\n",
       "dtype: int64"
      ]
     },
     "metadata": {},
     "execution_count": 20
    }
   ],
   "source": [
    "change_prices.isnull().sum()"
   ]
  },
  {
   "cell_type": "code",
   "execution_count": null,
   "metadata": {},
   "outputs": [],
   "source": []
  }
 ],
 "metadata": {
  "kernelspec": {
   "name": "python379jvsc74a57bd097a90f8bc75bd0fb5366eeda96ba15b2e737e1b12c46c1c691e1be1aeaa240a1",
   "display_name": "Python 3.7.9 64-bit ('dev': conda)"
  },
  "language_info": {
   "codemirror_mode": {
    "name": "ipython",
    "version": 3
   },
   "file_extension": ".py",
   "mimetype": "text/x-python",
   "name": "python",
   "nbconvert_exporter": "python",
   "pygments_lexer": "ipython3",
   "version": "3.7.9"
  }
 },
 "nbformat": 4,
 "nbformat_minor": 4
}